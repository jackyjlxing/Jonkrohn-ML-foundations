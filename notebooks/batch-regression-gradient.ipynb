{
  "cells": [
    {
      "cell_type": "markdown",
      "metadata": {
        "colab_type": "text",
        "id": "view-in-github"
      },
      "source": [
        "<a href=\"https://colab.research.google.com/github/jonkrohn/ML-foundations/blob/master/notebooks/batch-regression-gradient.ipynb\" target=\"_parent\"><img src=\"https://colab.research.google.com/assets/colab-badge.svg\" alt=\"Open In Colab\"/></a>"
      ]
    },
    {
      "cell_type": "markdown",
      "metadata": {
        "id": "w1eOuVn9NGmF"
      },
      "source": [
        "# Gradient of Cost on a Batch of Data"
      ]
    },
    {
      "cell_type": "markdown",
      "metadata": {
        "id": "Y_KkT6RFNGmG"
      },
      "source": [
        "In this notebook, we expand on the partial derivative calculus of the [*Single Point Regression Gradient* notebook](https://github.com/jonkrohn/ML-foundations/blob/master/notebooks/single-point-regression-gradient.ipynb) to: \n",
        "\n",
        "* Calculate the gradient of mean squared error on a batch of data\n",
        "* Visualize gradient descent in action"
      ]
    },
    {
      "cell_type": "code",
      "execution_count": 2,
      "metadata": {
        "id": "ZjicYQ5zNGmG"
      },
      "outputs": [],
      "source": [
        "import torch\n",
        "import matplotlib.pyplot as plt"
      ]
    },
    {
      "cell_type": "code",
      "execution_count": 3,
      "metadata": {
        "id": "rIaLtIj9NGmK"
      },
      "outputs": [],
      "source": [
        "xs = torch.tensor([0, 1, 2, 3, 4, 5, 6, 7.])\n",
        "ys = torch.tensor([1.86, 1.31, .62, .33, .09, -.67, -1.23, -1.37])"
      ]
    },
    {
      "cell_type": "code",
      "execution_count": 4,
      "metadata": {
        "id": "dpwZa7ezNGmN"
      },
      "outputs": [],
      "source": [
        "def regression(my_x, my_m, my_b):\n",
        "    return my_m*my_x + my_b"
      ]
    },
    {
      "cell_type": "code",
      "execution_count": null,
      "metadata": {
        "id": "_HYqkV5_NGmP"
      },
      "outputs": [],
      "source": [
        "m = torch.tensor([0.9]).requires_grad_()\n",
        "b = torch.tensor([0.1]).requires_grad_()"
      ]
    },
    {
      "cell_type": "markdown",
      "metadata": {
        "id": "gM5qQwd_NGmS"
      },
      "source": [
        "**Step 1**: Forward pass"
      ]
    },
    {
      "cell_type": "code",
      "execution_count": null,
      "metadata": {
        "colab": {
          "base_uri": "https://localhost:8080/"
        },
        "id": "8IRq0BEENGmS",
        "outputId": "69b26d70-d224-4b19-f912-aa212554832b"
      },
      "outputs": [],
      "source": [
        "yhats = regression(xs, m, b)\n",
        "yhats"
      ]
    },
    {
      "cell_type": "markdown",
      "metadata": {
        "id": "MA8FiSK5NGmV"
      },
      "source": [
        "**Step 2**: Compare $\\hat{y}$ with true $y$ to calculate cost $C$"
      ]
    },
    {
      "cell_type": "markdown",
      "metadata": {
        "id": "VIUzVfyIiFZ4"
      },
      "source": [
        "As in the [*Regression in PyTorch* notebook](https://github.com/jonkrohn/ML-foundations/blob/master/notebooks/regression-in-pytorch.ipynb), let's use mean squared error, which averages quadratic cost across multiple data points: $$C = \\frac{1}{n} \\sum_{i=1}^n (\\hat{y_i}-y_i)^2 $$"
      ]
    },
    {
      "cell_type": "code",
      "execution_count": null,
      "metadata": {
        "id": "KXhJySbJNGmW"
      },
      "outputs": [],
      "source": [
        "def mse(my_yhat, my_y): \n",
        "    sigma = torch.sum((my_yhat - my_y)**2)\n",
        "    return sigma/len(my_y)"
      ]
    },
    {
      "cell_type": "code",
      "execution_count": null,
      "metadata": {
        "colab": {
          "base_uri": "https://localhost:8080/"
        },
        "id": "JusNX1J4NGmZ",
        "outputId": "e166a23d-ddf0-4b59-9ec0-29c89d8afb0a"
      },
      "outputs": [],
      "source": [
        "C = mse(yhats, ys)\n",
        "C"
      ]
    },
    {
      "cell_type": "markdown",
      "metadata": {
        "id": "ZDlyFxhFNGmb"
      },
      "source": [
        "**Step 3**: Use autodiff to calculate gradient of $C$ w.r.t. parameters"
      ]
    },
    {
      "cell_type": "code",
      "execution_count": null,
      "metadata": {
        "id": "1awywt0FNGmb"
      },
      "outputs": [],
      "source": [
        "C.backward()"
      ]
    },
    {
      "cell_type": "code",
      "execution_count": null,
      "metadata": {
        "colab": {
          "base_uri": "https://localhost:8080/"
        },
        "id": "q8J1h-BsNGmd",
        "outputId": "b96b4980-0a21-4391-a439-41b0526b7061"
      },
      "outputs": [],
      "source": [
        "m.grad"
      ]
    },
    {
      "cell_type": "code",
      "execution_count": null,
      "metadata": {
        "colab": {
          "base_uri": "https://localhost:8080/"
        },
        "id": "1QVgiEt3NGmf",
        "outputId": "aadb1fda-d0af-4e44-ec53-11c7a08a6420"
      },
      "outputs": [],
      "source": [
        "b.grad"
      ]
    },
    {
      "cell_type": "markdown",
      "metadata": {
        "id": "ymYCctQhNGmh"
      },
      "source": [
        "**Return to *Calculus II* slides here to derive $\\frac{\\partial C}{\\partial m}$ and $\\frac{\\partial C}{\\partial b}$.**"
      ]
    },
    {
      "cell_type": "markdown",
      "metadata": {
        "id": "Jki72o15NGmi"
      },
      "source": [
        "$$ \\frac{\\partial C}{\\partial m} = \\frac{2}{n} \\sum (\\hat{y}_i - y_i) \\cdot x_i $$"
      ]
    },
    {
      "cell_type": "code",
      "execution_count": null,
      "metadata": {
        "colab": {
          "base_uri": "https://localhost:8080/"
        },
        "id": "E3Nfrc2LNGmi",
        "outputId": "c15f246c-1f34-4044-d9ad-ba66565d5266"
      },
      "outputs": [],
      "source": [
        "2*1/len(ys)*torch.sum((yhats - ys)*xs)"
      ]
    },
    {
      "cell_type": "markdown",
      "metadata": {
        "id": "wuHlavWcNGmk"
      },
      "source": [
        "$$ \\frac{\\partial C}{\\partial b} = \\frac{2}{n} \\sum (\\hat{y}_i - y_i) $$"
      ]
    },
    {
      "cell_type": "code",
      "execution_count": null,
      "metadata": {
        "colab": {
          "base_uri": "https://localhost:8080/"
        },
        "id": "55hFPIYqNGmk",
        "outputId": "045bb2b4-ff21-46c1-cada-a55cb2e397b2"
      },
      "outputs": [],
      "source": [
        "2*1/len(ys)*torch.sum(yhats - ys)"
      ]
    },
    {
      "cell_type": "markdown",
      "metadata": {
        "id": "Y_Rgoj4eNGmn"
      },
      "source": [
        "We don't need to explicitly create a standalone $\\nabla C$ object (Greek inverted delta is called *nabla* for \"harp\" but w.r.t. gradient is *del* as in \"del C\") for the remainder of the code in this notebook to run, but let's create it for fun now anyway and we'll make use of it in a later, related notebook: "
      ]
    },
    {
      "cell_type": "code",
      "execution_count": null,
      "metadata": {
        "colab": {
          "base_uri": "https://localhost:8080/"
        },
        "id": "1t69ayvtNGmn",
        "outputId": "41882623-ce83-48b3-e24b-2f38855652c7"
      },
      "outputs": [],
      "source": [
        "gradient = torch.tensor([[b.grad.item(), m.grad.item()]]).T\n",
        "gradient"
      ]
    },
    {
      "cell_type": "markdown",
      "metadata": {
        "id": "lOeN-r0jNGmp"
      },
      "source": [
        "Let's visualize the most pertinent metrics in a single plot: "
      ]
    },
    {
      "cell_type": "code",
      "execution_count": null,
      "metadata": {
        "id": "Ha6l7NFyNGmp"
      },
      "outputs": [],
      "source": [
        "def labeled_regression_plot(my_x, my_y, my_m, my_b, my_C, include_grad=True):\n",
        "    \n",
        "    title = 'Cost = {}'.format('%.3g' % my_C.item())\n",
        "    if include_grad:\n",
        "        xlabel = 'm = {}, m grad = {}'.format('%.3g' % my_m.item(), '%.3g' % my_m.grad.item())\n",
        "        ylabel = 'b = {}, b grad = {}'.format('%.3g' % my_b.item(), '%.3g' % my_b.grad.item())\n",
        "    else:\n",
        "        xlabel = 'm = {}'.format('%.3g' % my_m.item())        \n",
        "        ylabel = 'b = {}'.format('%.3g' % my_b.item())\n",
        "    \n",
        "    fig, ax = plt.subplots()\n",
        "    \n",
        "    plt.title(title)\n",
        "    plt.ylabel(ylabel)\n",
        "    plt.xlabel(xlabel)\n",
        "\n",
        "    ax.scatter(my_x, my_y, zorder=3)\n",
        "    \n",
        "    x_min, x_max = ax.get_xlim()\n",
        "    y_min = regression(x_min, my_m, my_b).detach().item()\n",
        "    y_max = regression(x_max, my_m, my_b).detach().item()\n",
        "\n",
        "    ax.set_xlim([x_min, x_max])\n",
        "    _ = ax.plot([x_min, x_max], [y_min, y_max], c='C01')"
      ]
    },
    {
      "cell_type": "code",
      "execution_count": null,
      "metadata": {
        "colab": {
          "base_uri": "https://localhost:8080/",
          "height": 295
        },
        "id": "CMQLV5gdNGmr",
        "outputId": "f7611d90-73a3-4396-81bb-0090b150853f"
      },
      "outputs": [],
      "source": [
        "labeled_regression_plot(xs, ys, m, b, C)"
      ]
    },
    {
      "cell_type": "markdown",
      "metadata": {
        "id": "Qv9b6XhbNGmt"
      },
      "source": [
        "**Step 4**: Gradient descent"
      ]
    },
    {
      "cell_type": "markdown",
      "metadata": {
        "id": "ZafX4G7TNGmt"
      },
      "source": [
        "$\\frac{\\partial C}{\\partial m} = 36.3$ indicates that an increase in $m$ corresponds to a large increase in $C$. \n",
        "\n",
        "Meanwhile, $\\frac{\\partial C}{\\partial b} = 6.26$ indicates that an increase in $b$ also corresponds to an increase in $C$, though much less so than $m$.\n",
        "\n",
        "In the first round of training, the lowest hanging fruit with respect to reducing cost $C$ is therefore to decrease the slope of the regression line, $m$. There will also be a relatively small decrease in the $y$-intercept of the line, $b$. "
      ]
    },
    {
      "cell_type": "code",
      "execution_count": null,
      "metadata": {
        "id": "f2LMBXARNGmu"
      },
      "outputs": [],
      "source": [
        "optimizer = torch.optim.SGD([m, b], lr=0.01)"
      ]
    },
    {
      "cell_type": "code",
      "execution_count": null,
      "metadata": {
        "id": "je7T1wxKNGmw"
      },
      "outputs": [],
      "source": [
        "optimizer.step()"
      ]
    },
    {
      "cell_type": "code",
      "execution_count": null,
      "metadata": {
        "id": "fz6J95xcNGmy"
      },
      "outputs": [],
      "source": [
        "C = mse(regression(xs, m, b), ys)"
      ]
    },
    {
      "cell_type": "code",
      "execution_count": null,
      "metadata": {
        "colab": {
          "base_uri": "https://localhost:8080/",
          "height": 295
        },
        "id": "BGFSG151NGm1",
        "outputId": "fb5968bb-3eeb-42c4-d609-420235ca95c8"
      },
      "outputs": [],
      "source": [
        "labeled_regression_plot(xs, ys, m, b, C, include_grad=False) # Gradient of C hasn't been recalculated"
      ]
    },
    {
      "cell_type": "markdown",
      "metadata": {
        "id": "xdbwrKZRNGm3"
      },
      "source": [
        "### Rinse and Repeat"
      ]
    },
    {
      "cell_type": "markdown",
      "metadata": {
        "id": "EhbOcYJXNGm3"
      },
      "source": [
        "Observe further rounds of training: "
      ]
    },
    {
      "cell_type": "code",
      "execution_count": null,
      "metadata": {
        "colab": {
          "base_uri": "https://localhost:8080/",
          "height": 1000
        },
        "id": "uDs2YfGxNGm4",
        "outputId": "6de47a3a-248d-4277-9956-6789a326d39a"
      },
      "outputs": [],
      "source": [
        "epochs = 8\n",
        "for epoch in range(epochs): \n",
        "    \n",
        "    optimizer.zero_grad() # Reset gradients to zero; else they accumulate\n",
        "    \n",
        "    yhats = regression(xs, m, b) # Step 1\n",
        "    C = mse(yhats, ys) # Step 2\n",
        "    \n",
        "    C.backward() # Step 3\n",
        "    \n",
        "    labeled_regression_plot(xs, ys, m, b, C)\n",
        "    \n",
        "    optimizer.step() # Step 4"
      ]
    },
    {
      "cell_type": "markdown",
      "metadata": {
        "id": "epN8T_IoNGm5"
      },
      "source": [
        "In later rounds of training, after the model's slope $m$ has become closer to the slope represented by the data, $\\frac{\\partial C}{\\partial b}$ becomes negative, indicating an inverse relationship between $b$ and $C$. Meanwhile, $\\frac{\\partial C}{\\partial m}$ remains positive. \n",
        "\n",
        "This combination directs gradient descent to simultaneously adjust the $y$-intercept $b$ upwards and the slope $m$ downwards in order to reduce cost $C$ and, ultimately, fit the regression line snugly to the data. "
      ]
    }
  ],
  "metadata": {
    "colab": {
      "include_colab_link": true,
      "name": "batch-regression-gradient.ipynb",
      "provenance": []
    },
    "kernelspec": {
      "display_name": "Python 3",
      "language": "python",
      "name": "python3"
    },
    "language_info": {
      "codemirror_mode": {
        "name": "ipython",
        "version": 3
      },
      "file_extension": ".py",
      "mimetype": "text/x-python",
      "name": "python",
      "nbconvert_exporter": "python",
      "pygments_lexer": "ipython3",
      "version": "3.11.9"
    }
  },
  "nbformat": 4,
  "nbformat_minor": 0
}
